{
 "cells": [
  {
   "cell_type": "code",
   "execution_count": 3,
   "id": "cabaa6e5",
   "metadata": {},
   "outputs": [
    {
     "name": "stdout",
     "output_type": "stream",
     "text": [
      "Requirement already satisfied: opencv-python in ./masters/lib/python3.8/site-packages (4.6.0.66)\n",
      "Requirement already satisfied: numpy>=1.17.3 in ./masters/lib/python3.8/site-packages (from opencv-python) (1.23.4)\n",
      "Collecting pandas\n",
      "  Downloading pandas-1.5.1-cp38-cp38-macosx_11_0_arm64.whl (10.7 MB)\n",
      "\u001b[2K     \u001b[38;2;114;156;31m━━━━━━━━━━━━━━━━━━━━━━━━━━━━━━━━━━━━━━━━\u001b[0m \u001b[32m10.7/10.7 MB\u001b[0m \u001b[31m30.5 MB/s\u001b[0m eta \u001b[36m0:00:00\u001b[0mm eta \u001b[36m0:00:01\u001b[0m:01\u001b[0m:01\u001b[0m\n",
      "\u001b[?25hRequirement already satisfied: python-dateutil>=2.8.1 in ./masters/lib/python3.8/site-packages (from pandas) (2.8.2)\n",
      "Requirement already satisfied: numpy>=1.20.3 in ./masters/lib/python3.8/site-packages (from pandas) (1.23.4)\n",
      "Requirement already satisfied: pytz>=2020.1 in ./masters/lib/python3.8/site-packages (from pandas) (2022.5)\n",
      "Requirement already satisfied: six>=1.5 in ./masters/lib/python3.8/site-packages (from python-dateutil>=2.8.1->pandas) (1.16.0)\n",
      "Installing collected packages: pandas\n",
      "Successfully installed pandas-1.5.1\n"
     ]
    }
   ],
   "source": [
    "!pip install opencv-python\n",
    "!pip install pandas"
   ]
  },
  {
   "cell_type": "code",
   "execution_count": 4,
   "id": "3483e1fc",
   "metadata": {},
   "outputs": [],
   "source": [
    "import cv2\n",
    "\n",
    "import uuid\n",
    "\n",
    "import os\n",
    "\n",
    "import time\n",
    "\n",
    "import pandas as pd"
   ]
  },
  {
   "cell_type": "code",
   "execution_count": 120,
   "id": "d2ce31d4",
   "metadata": {},
   "outputs": [
    {
     "data": {
      "text/plain": [
       "0               Bushing½moduleyellow\n",
       "1       Axlewithstud3moduledarkbeige\n",
       "2                    Axle7modulegrey\n",
       "3                 Bushing1modulegrey\n",
       "4        Axlewithstop4moduledarkgrey\n",
       "                   ...              \n",
       "84               Ballbearingdarkgrey\n",
       "85     Leftcurvedpanel3x5moduleblack\n",
       "86          Turntabletop28toothblack\n",
       "87             Track5x1.5moduleblack\n",
       "88    Rightcurvedpanel3x5moduleblack\n",
       "Name: name, Length: 89, dtype: object"
      ]
     },
     "execution_count": 120,
     "metadata": {},
     "output_type": "execute_result"
    }
   ],
   "source": [
    "columns = ['id', 'name', 'part', 'count']\n",
    "csv = pd.read_csv('./partslist.csv', header=0,usecols=columns)\n",
    "\n",
    "names = csv['name']\n",
    "\n",
    "ids = csv['id']\n",
    "\n",
    "parts = csv['part']\n",
    "\n",
    "counts = csv['count']\n",
    "\n",
    "labels = names\n",
    "number_imgs=50\n",
    "labels\n",
    "\n"
   ]
  },
  {
   "cell_type": "code",
   "execution_count": 113,
   "id": "8dd2ed1f",
   "metadata": {},
   "outputs": [
    {
     "data": {
      "text/plain": [
       "'Tensorflow/workspace/images/collectedimages'"
      ]
     },
     "execution_count": 113,
     "metadata": {},
     "output_type": "execute_result"
    }
   ],
   "source": [
    "IMAGES_PATH = os.path.join('Tensorflow', 'workspace','images','collectedimages')\n",
    "IMAGES_PATH"
   ]
  },
  {
   "cell_type": "code",
   "execution_count": 114,
   "id": "cdebed5f",
   "metadata": {},
   "outputs": [
    {
     "data": {
      "text/plain": [
       "'posix'"
      ]
     },
     "execution_count": 114,
     "metadata": {},
     "output_type": "execute_result"
    }
   ],
   "source": [
    "CURRENT_PATH = os.getcwd()\n",
    "CURRENT_PATH\n",
    "\n",
    "os.name"
   ]
  },
  {
   "cell_type": "code",
   "execution_count": 121,
   "id": "b5d54871",
   "metadata": {},
   "outputs": [
    {
     "name": "stdout",
     "output_type": "stream",
     "text": [
      "1 Bushing½moduleyellow\n",
      "2 Axlewithstud3moduledarkbeige\n",
      "3 Axle7modulegrey\n",
      "4 Bushing1modulegrey\n",
      "5 Axlewithstop4moduledarkgrey\n",
      "6 Axle8moduleblack\n",
      "7 Connectorpegwithfriction2moduleblack\n",
      "8 Connectorpeg2modulegrey\n",
      "9 Axlewithstop8moduledarkgrey\n",
      "10 Axle9modulegrey\n",
      "11 Connectorpegwithaxle2modulebeige\n",
      "12 Axle2modulered\n",
      "13 Axle10moduleblack\n",
      "14 Connectorpeg3modulebeige\n",
      "15 Axle3modulegrey\n",
      "16 Connectorpegwithfriction-axle-2moduleblue\n",
      "17 Axle4moduleblack\n",
      "18 Axle12moduleblack\n",
      "19 Connectorpegwithfriction3moduleblue\n",
      "20 Axle5modulegrey\n",
      "21 Pointer3modulewhite\n",
      "22 Connectorpegwithbushing3modulered\n",
      "23 Axle6moduleblack\n",
      "24 TBeam3x3moduleblack\n",
      "25 Beamwithcrosshole2moduleblack\n",
      "26 Angularbeam4x4modulewhite\n",
      "27 Beam5modulegrey\n",
      "28 Beam3moduleblack\n",
      "29 Beam3modulegreen\n",
      "30 Angularbeam3x7modulegrey\n",
      "31 Beam7modulegrey\n",
      "32 Beam3modulered\n",
      "33 Angularbeam4x6moduleblack\n",
      "34 Beam9modulegrey\n",
      "35 Beam3moduleblue\n",
      "36 Doubleangularbeam3x7modulewhite\n",
      "37 Beam11modulegrey\n",
      "38 Beam3moduleyellow\n",
      "39 Angularbeam2x4modulered\n",
      "40 Frame5x7modulegrey\n",
      "41 Angularbeam3x5modulegrey\n",
      "42 Beam13modulegrey\n",
      "43 Frame5x11modulegrey\n",
      "44 Angularbeam3x5modulewhite\n",
      "45 Beam15modulewhite\n",
      "46 Doubleconnectorpeg3modulegrey\n",
      "47 Crossblock2x2moduleblack\n",
      "48 Angularblock10ºblack\n",
      "49 Doubleconnectorpeg3x3modulegrey\n",
      "50 Crossbeam2x1modulered\n",
      "51 Angularblock2180ºblack\n",
      "52 Angularconnectorpeg3x3modulegrey\n",
      "53 Connectorpegwithhandle3moduleblack\n",
      "54 Angularblock6-90º-black\n",
      "55 Crossblock2modulegrey\n",
      "56 ½beam4moduleblack\n",
      "57 Rubberbeamwithcrossholes2moduleblack\n",
      "58 Crossblock3moduledarkgrey\n",
      "59 ½trianglebeam5x3modulegrey\n",
      "60 Gear8toothdarkgrey\n",
      "61 Crossblock3x2modulegrey\n",
      "62 3spokeangularblock3x120ºgrey\n",
      "63 Bevelgear12toothbeige\n",
      "64 Doublecrossblock3moduleblack\n",
      "65 Tube2modulegrey\n",
      "66 Gear16toothgrey\n",
      "67 Crossblockfork2x2moduleblack\n",
      "68 Bushing-axleextender2modulered\n",
      "69 Gear24toothdarkgrey\n",
      "70 Gear40toothgrey\n",
      "71 Hub43.2x26mmgrey\n",
      "72 Sprocket40.7x15mmblack\n",
      "73 Doublebevelgear12toothblack\n",
      "74 Doublebevelgear20toothblack\n",
      "75 Lowprofiletire56x28mmblack\n",
      "76 Rightcurvedpanel5x11moduleblack\n",
      "77 Doublebevelgear36toothblack\n",
      "78 Tire30.4x4mmblack\n",
      "79 Wormgeargrey\n",
      "80 Hub24x4mmdarkgrey\n",
      "81 Leftcurvedpanel5x11moduleblack\n",
      "82 Gear4toothblack\n",
      "83 SteelBallsilvermetallic\n",
      "84 Turntablebottom28toothgrey\n",
      "85 Ballbearingdarkgrey\n",
      "86 Leftcurvedpanel3x5moduleblack\n",
      "87 Turntabletop28toothblack\n",
      "88 Track5x1.5moduleblack\n",
      "89 Rightcurvedpanel3x5moduleblack\n"
     ]
    }
   ],
   "source": [
    "count = 1\n",
    "if not os.path.exists(IMAGES_PATH):\n",
    "    if os.name == 'posix':\n",
    "        !mkdir -p {IMAGES_PATH}\n",
    "    if os.name == 'nt':\n",
    "        !mkdir {IMAGES_PATH}\n",
    "for label in labels:\n",
    "    print(count, label)\n",
    "    path = os.path.join(IMAGES_PATH, str(label))\n",
    "    if not os.path.exists(path):\n",
    "        !mkdir -p {path}\n",
    "    count= count + 1"
   ]
  },
  {
   "cell_type": "code",
   "execution_count": 71,
   "id": "45b5d936",
   "metadata": {},
   "outputs": [
    {
     "name": "stdout",
     "output_type": "stream",
     "text": [
      "Collecting images for part Bushing  ½-module  yellow\n",
      "Collecting image 0\n",
      "Collecting image 1\n",
      "Collecting image 2\n",
      "Collecting image 3\n",
      "Collecting image 4\n",
      "Collecting image 5\n"
     ]
    },
    {
     "ename": "KeyboardInterrupt",
     "evalue": "",
     "output_type": "error",
     "traceback": [
      "\u001b[0;31m---------------------------------------------------------------------------\u001b[0m",
      "\u001b[0;31mKeyboardInterrupt\u001b[0m                         Traceback (most recent call last)",
      "Cell \u001b[0;32mIn [71], line 11\u001b[0m\n\u001b[1;32m      9\u001b[0m cv2\u001b[38;5;241m.\u001b[39mimwrite(imgname,frame)\n\u001b[1;32m     10\u001b[0m cv2\u001b[38;5;241m.\u001b[39mimshow(\u001b[38;5;124m'\u001b[39m\u001b[38;5;124mframe\u001b[39m\u001b[38;5;124m'\u001b[39m, frame)\n\u001b[0;32m---> 11\u001b[0m \u001b[43mtime\u001b[49m\u001b[38;5;241;43m.\u001b[39;49m\u001b[43msleep\u001b[49m\u001b[43m(\u001b[49m\u001b[38;5;241;43m2\u001b[39;49m\u001b[43m)\u001b[49m\n\u001b[1;32m     13\u001b[0m \u001b[38;5;28;01mif\u001b[39;00m cv2\u001b[38;5;241m.\u001b[39mwaitKey(\u001b[38;5;241m1\u001b[39m) \u001b[38;5;241m&\u001b[39m \u001b[38;5;241m0xFF\u001b[39m \u001b[38;5;241m==\u001b[39m \u001b[38;5;28mord\u001b[39m(\u001b[38;5;124m'\u001b[39m\u001b[38;5;124mq\u001b[39m\u001b[38;5;124m'\u001b[39m):\n\u001b[1;32m     14\u001b[0m     \u001b[38;5;28;01mbreak\u001b[39;00m\n",
      "\u001b[0;31mKeyboardInterrupt\u001b[0m: "
     ]
    }
   ],
   "source": [
    "for label in labels:\n",
    "    cap = cv2.VideoCapture(0)\n",
    "    print('Collecting images for part {}'.format(str(label)))\n",
    "    time.sleep(5)\n",
    "    for imgnum in range(number_imgs):\n",
    "        print('Collecting image {}'.format(imgnum))\n",
    "        ret, frame = cap.read()\n",
    "        imgname = os.path.join(IMAGES_PATH, str(label), str(label)+'.'+'{}.jpg'.format(str(uuid.uuid1())))\n",
    "        cv2.imwrite(imgname,frame)\n",
    "        cv2.imshow('frame', frame)\n",
    "        time.sleep(2)\n",
    "        \n",
    "        if cv2.waitKey(1) & 0xFF == ord('q'):\n",
    "            break\n",
    "            \n",
    "cap.release()\n",
    "cv2.destroyAllWindows()\n"
   ]
  },
  {
   "cell_type": "code",
   "execution_count": 72,
   "id": "f6a5ffce",
   "metadata": {},
   "outputs": [],
   "source": [
    "cap.release()\n",
    "cv2.destroyAllWindows()\n"
   ]
  }
 ],
 "metadata": {
  "kernelspec": {
   "display_name": "Python 3 (ipykernel)",
   "language": "python",
   "name": "python3"
  },
  "language_info": {
   "codemirror_mode": {
    "name": "ipython",
    "version": 3
   },
   "file_extension": ".py",
   "mimetype": "text/x-python",
   "name": "python",
   "nbconvert_exporter": "python",
   "pygments_lexer": "ipython3",
   "version": "3.8.9"
  }
 },
 "nbformat": 4,
 "nbformat_minor": 5
}
